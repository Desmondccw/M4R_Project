{
 "cells": [
  {
   "cell_type": "code",
   "execution_count": null,
   "id": "a73adba7",
   "metadata": {},
   "outputs": [],
   "source": [
    "import fluid_functions as ff\n",
    "import numpy as np\n",
    "\n",
    "from cilia_test_copy import Cilium\n",
    "from cilia_test_copy  import Cilia_System\n",
    "from cilia_test_copy  import big_phi\n",
    "\n",
    "\n",
    "import matplotlib.pyplot as plt\n",
    "from itertools import product\n",
    "\n",
    "import matplotlib.cm as cm"
   ]
  },
  {
   "cell_type": "code",
   "execution_count": null,
   "id": "9441f576",
   "metadata": {},
   "outputs": [],
   "source": [
    "l_ambda = 0.1\n",
    "r0= 0.5\n",
    "lattice= 2\n",
    "a_radii=0.01\n",
    "\n",
    "f0 = lambda phi : 0\n",
    "\n",
    "x_n=30\n",
    "\n",
    "Cilia_System_1= Cilia_System()\n",
    "\n",
    "new_constants= np.array([r0, l_ambda ,10])\n",
    "\n",
    "Cilia_row= [Cilium([i*lattice, 0], [0,r0,np.random.uniform(0, 2*np.pi)], constants= np.array([r0, l_ambda ,10]), a= a_radii) for i in range(x_n)]\n",
    "\n",
    "Cilia_System_1.add(Cilia_row)\n"
   ]
  },
  {
   "cell_type": "markdown",
   "id": "19591c78",
   "metadata": {},
   "source": [
    "Figure 7 Replication"
   ]
  },
  {
   "cell_type": "code",
   "execution_count": null,
   "id": "d91ab141",
   "metadata": {},
   "outputs": [],
   "source": [
    "phi_list=[]\n",
    "\n",
    "for i in range(600):\n",
    "    \n",
    "    while Cilia_System_1.phi_list[0] < (0.1*i*np.pi):\n",
    "        Cilia_System_1.update(stepsize= 0.02)\n",
    "        \n",
    "    phi_list.append(Cilia_System_1.phi_list)\n",
    "    \n",
    "import pandas as pd \n",
    "pd.DataFrame(phi_list).to_csv(\"phi_list_1D.csv\")"
   ]
  },
  {
   "cell_type": "code",
   "execution_count": null,
   "id": "1efffb11",
   "metadata": {},
   "outputs": [],
   "source": [
    "arr_phi= np.reshape(phi_list, (600, 30))"
   ]
  },
  {
   "cell_type": "code",
   "execution_count": null,
   "id": "05ccd16a",
   "metadata": {},
   "outputs": [],
   "source": [
    "import pandas as pd \n",
    "\n",
    "arr_phi = np.array(pd.read_csv(\"phi_list_1D.csv\", delimiter=\",\"))[:,1:].T"
   ]
  },
  {
   "cell_type": "code",
   "execution_count": null,
   "id": "524ef097",
   "metadata": {},
   "outputs": [],
   "source": [
    "import seaborn as sns\n",
    "\n",
    "fig, ax = plt.subplots(figsize=(20,3))\n",
    "s= sns.heatmap(np.sin(arr_phi),vmax= 1, vmin= -1, cmap='cool', ax=ax);\n",
    "\n",
    "s.set(xticklabels=[]);\n",
    "s.set(title='1D formation of Metachronal Waves over 30 beats');\n"
   ]
  },
  {
   "cell_type": "code",
   "execution_count": null,
   "id": "7450cc46",
   "metadata": {},
   "outputs": [],
   "source": [
    "diff=[]\n",
    "for i in arr_phi.T:\n",
    "    diff.append(i[1:]- i[:-1])\n",
    "    \n",
    "fig, ax = plt.subplots(figsize=(20,3))\n",
    "s= sns.heatmap(np.sin(diff).T,vmax= 1, vmin= -1, cmap='cool', ax=ax);\n",
    "\n",
    "s.set(xticklabels=[]);\n",
    "s.set(title='Neighbouring Phase Difference sin(phi_i+1) - sin(phi_i)');"
   ]
  },
  {
   "cell_type": "code",
   "execution_count": null,
   "id": "1cbffd58",
   "metadata": {},
   "outputs": [],
   "source": [
    "diff[-1]"
   ]
  },
  {
   "cell_type": "code",
   "execution_count": null,
   "id": "276ca109",
   "metadata": {},
   "outputs": [],
   "source": [
    "import numpy as np\n",
    "\n",
    "#  clearly not synchronised\n",
    "\n",
    "arr= np.array([-0.20408716,  6.10241235, -6.42662328, -0.08593901,  6.20831456,\n",
    "       -0.02874463, -0.0645243 , -0.04350147, -6.26981283,  6.2680183 ,\n",
    "       -6.2550798 ,  6.29720257, -6.24651475,  6.33105654,  0.06047711,\n",
    "       -6.25649711,  6.33524078, -6.24371498,  0.06576595,  6.26155249,\n",
    "       -6.29435754, -0.02191599,  6.22810461, -6.32344674, -0.07555922,\n",
    "       -0.11054951, -0.14132679,  6.07619762, -6.59200199])\n",
    "\n",
    "arr% (2*np.pi)"
   ]
  },
  {
   "cell_type": "code",
   "execution_count": null,
   "id": "d91094dd",
   "metadata": {},
   "outputs": [],
   "source": [
    "for i in range(600):\n",
    "    \n",
    "    while Cilia_System_1.phi_list[0] < (0.1*i*np.pi + 60*np.pi):\n",
    "        Cilia_System_1.update(stepsize= 0.02)\n",
    "        \n",
    "    phi_list.append(Cilia_System_1.phi_list)"
   ]
  },
  {
   "cell_type": "code",
   "execution_count": null,
   "id": "019e914d",
   "metadata": {},
   "outputs": [],
   "source": [
    "import pandas as pd \n",
    "pd.DataFrame(phi_list).to_csv(\"phi_list_1D*.csv\")"
   ]
  },
  {
   "cell_type": "code",
   "execution_count": null,
   "id": "e475735e",
   "metadata": {},
   "outputs": [],
   "source": [
    "arr_phi= np.reshape(phi_list, np.shape(phi_list))\n",
    "\n",
    "import seaborn as sns\n",
    "\n",
    "fig, ax = plt.subplots(figsize=(20,3))\n",
    "sns.heatmap(np.sin(arr_phi).T, vmax= 1, vmin= -1, cmap='cool', ax=ax);"
   ]
  }
 ],
 "metadata": {
  "kernelspec": {
   "display_name": ".venv",
   "language": "python",
   "name": "python3"
  },
  "language_info": {
   "codemirror_mode": {
    "name": "ipython",
    "version": 3
   },
   "file_extension": ".py",
   "mimetype": "text/x-python",
   "name": "python",
   "nbconvert_exporter": "python",
   "pygments_lexer": "ipython3",
   "version": "3.11.2"
  },
  "vscode": {
   "interpreter": {
    "hash": "47c5fbefb53a0b25cbe1ba973a05866bb5c6a9a8a1e8c17da7cd40af9d08af45"
   }
  }
 },
 "nbformat": 4,
 "nbformat_minor": 5
}
